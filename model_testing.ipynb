{
  "nbformat": 4,
  "nbformat_minor": 0,
  "metadata": {
    "colab": {
      "provenance": []
    },
    "kernelspec": {
      "name": "python3",
      "display_name": "Python 3"
    },
    "language_info": {
      "name": "python"
    }
  },
  "cells": [
    {
      "cell_type": "code",
      "source": [
        "# importing necessary packages\n",
        "import matplotlib.pyplot as plt\n",
        "import seaborn as sns\n",
        "import pandas as pd\n",
        "import numpy as np\n",
        "from sklearn.preprocessing import StandardScaler\n",
        "from sklearn.model_selection import train_test_split\n",
        "from sklearn.linear_model import LinearRegression\n",
        "from sklearn.ensemble import RandomForestRegressor\n",
        "from xgboost import XGBRegressor\n",
        "from sklearn.metrics import mean_absolute_error, mean_squared_error, r2_score\n",
        "from sklearn.preprocessing import OneHotEncoder\n",
        "from sklearn.compose import ColumnTransformer\n",
        "from sklearn.linear_model import Lasso, Ridge\n",
        "from sklearn.model_selection import train_test_split\n",
        "from sklearn.metrics import mean_squared_error\n",
        "from sklearn.linear_model import Lasso, Ridge\n",
        "from sklearn.model_selection import train_test_split\n",
        "from sklearn.metrics import mean_squared_error\n",
        "from sklearn.model_selection import GridSearchCV\n",
        "from sklearn.model_selection import RandomizedSearchCV\n",
        "from scipy.stats import randint\n",
        "import joblib\n"
      ],
      "metadata": {
        "id": "maUi9StVWtRw"
      },
      "execution_count": 50,
      "outputs": []
    },
    {
      "cell_type": "code",
      "execution_count": 25,
      "metadata": {
        "id": "JdmtmxXAO5nR",
        "colab": {
          "base_uri": "https://localhost:8080/"
        },
        "outputId": "80876af2-91e7-431f-f430-81ba801a307d"
      },
      "outputs": [
        {
          "output_type": "stream",
          "name": "stdout",
          "text": [
            "Drive already mounted at /content/drive; to attempt to forcibly remount, call drive.mount(\"/content/drive\", force_remount=True).\n",
            "                Model          Brand  Year  Price  Mileage Transmission\n",
            "0       Nissan Almera         Nissan  2015  21000   149490    Automatic\n",
            "1        Perodua Aruz        Perodua  2019  50600    88806    Automatic\n",
            "2       Daihatsu Gran       Daihatsu  2021  40000   104943       Manual\n",
            "3  Mercedes-Benz C250  Mercedes-Benz  2010  43000   147362    Automatic\n",
            "4         Proton Iriz         Proton  2019  31900    52965    Automatic\n"
          ]
        }
      ],
      "source": [
        "#load dataset\n",
        "from google.colab import drive\n",
        "drive.mount('/content/drive')\n",
        "\n",
        "df = pd.read_csv('/content/drive/MyDrive/filtered_merged_data.csv')\n",
        "print(df.head())"
      ]
    },
    {
      "cell_type": "code",
      "source": [
        "# Normalise numerical variables\n",
        "scaler = StandardScaler()\n",
        "df[['Mileage', 'Year']] = scaler.fit_transform(df[['Mileage', 'Year']])"
      ],
      "metadata": {
        "id": "ejMxBTOxR473"
      },
      "execution_count": 20,
      "outputs": []
    },
    {
      "cell_type": "code",
      "source": [
        "# Train-test split\n",
        "X = df.drop('Price', axis=1)\n",
        "y = df['Price']\n",
        "X_train, X_test, y_train, y_test = train_test_split(X, y, test_size=0.2, random_state=42)"
      ],
      "metadata": {
        "id": "ogAdCuF5R8Qw"
      },
      "execution_count": 21,
      "outputs": []
    },
    {
      "cell_type": "code",
      "source": [
        "# Linear Regression Model\n",
        "# Encoding categorical data\n",
        "categorical_columns = ['Model', 'Brand', 'Transmission']\n",
        "\n",
        "# One-hot encoding\n",
        "encoder = ColumnTransformer(transformers=[\n",
        "    ('onehot', OneHotEncoder(handle_unknown='ignore'), categorical_columns)\n",
        "], remainder='passthrough')\n",
        "\n",
        "# Fit and transform X_train\n",
        "X_train_encoded = encoder.fit_transform(X_train)\n",
        "X_test_encoded = encoder.transform(X_test)\n",
        "\n",
        "linear_model = LinearRegression()\n",
        "linear_model.fit(X_train_encoded, y_train)\n",
        "\n",
        "y1_pred = linear_model.predict(X_test_encoded)\n",
        "\n",
        "print(\"MAE:\", mean_absolute_error(y_test, y1_pred))\n",
        "print(\"MSE:\", mean_squared_error(y_test, y1_pred))\n",
        "print(\"R² Score:\", r2_score(y_test, y1_pred))"
      ],
      "metadata": {
        "colab": {
          "base_uri": "https://localhost:8080/"
        },
        "id": "uk51RpaPR_EB",
        "outputId": "b10f75bf-dcf3-47ee-c2e9-69e5e8f2290c"
      },
      "execution_count": 22,
      "outputs": [
        {
          "output_type": "stream",
          "name": "stdout",
          "text": [
            "MAE: 13841.274386327697\n",
            "MSE: 3147570628.38631\n",
            "R² Score: 0.7033541094019171\n"
          ]
        }
      ]
    },
    {
      "cell_type": "code",
      "source": [
        "# Applying log transformation to response variable Price\n",
        "df_log = df.copy()\n",
        "df_log['Log_Price'] = np.log1p(df['Price'])\n",
        "df_log = df_log.drop('Price', axis=1)\n",
        "\n",
        "print(df_log.head())"
      ],
      "metadata": {
        "colab": {
          "base_uri": "https://localhost:8080/"
        },
        "id": "tTdbChAXUbL2",
        "outputId": "ddd57bcc-f1e0-44ea-871f-f5abe0ba705f"
      },
      "execution_count": 26,
      "outputs": [
        {
          "output_type": "stream",
          "name": "stdout",
          "text": [
            "                Model          Brand  Year  Mileage Transmission  Log_Price\n",
            "0       Nissan Almera         Nissan  2015   149490    Automatic   9.952325\n",
            "1        Perodua Aruz        Perodua  2019    88806    Automatic  10.831727\n",
            "2       Daihatsu Gran       Daihatsu  2021   104943       Manual  10.596660\n",
            "3  Mercedes-Benz C250  Mercedes-Benz  2010   147362    Automatic  10.668979\n",
            "4         Proton Iriz         Proton  2019    52965    Automatic  10.370393\n"
          ]
        }
      ]
    },
    {
      "cell_type": "code",
      "source": [
        "# Linear Regression Model with Log_Price\n",
        "# Train-test split\n",
        "X_log = df_log.drop('Log_Price', axis=1)\n",
        "y_log = df_log['Log_Price']\n",
        "X_train_log, X_test_log, y_train_log, y_test_log = train_test_split(X_log, y_log, test_size=0.2, random_state=42)\n",
        "\n",
        "# Fit and transform X_train\n",
        "X_train_encoded_log = encoder.fit_transform(X_train_log)\n",
        "X_test_encoded_log = encoder.transform(X_test_log)\n",
        "\n",
        "linear_model_log = LinearRegression()\n",
        "linear_model_log.fit(X_train_encoded_log, y_train_log)\n",
        "\n",
        "ylog_pred = linear_model_log.predict(X_test_encoded_log)\n",
        "\n",
        "print(\"MAE:\", mean_absolute_error(y_test_log, ylog_pred))\n",
        "print(\"MSE:\", mean_squared_error(y_test_log, ylog_pred))\n",
        "print(\"R² Score:\", r2_score(y_test_log, ylog_pred))"
      ],
      "metadata": {
        "colab": {
          "base_uri": "https://localhost:8080/"
        },
        "id": "CQVYc9trUtGG",
        "outputId": "9d7f21b6-1327-4a85-db44-091001603379"
      },
      "execution_count": 27,
      "outputs": [
        {
          "output_type": "stream",
          "name": "stdout",
          "text": [
            "MAE: 0.1644383224595992\n",
            "MSE: 0.06105058714651848\n",
            "R² Score: 0.8508852679683998\n"
          ]
        }
      ]
    },
    {
      "cell_type": "code",
      "source": [
        "# Random Forest Model\n",
        "forest_model = RandomForestRegressor(random_state=42)\n",
        "\n",
        "forest_model.fit(X_train_encoded, y_train)\n",
        "\n",
        "y2_pred = forest_model.predict(X_test_encoded)\n",
        "\n",
        "print(\"MAE:\", mean_absolute_error(y_test, y2_pred))\n",
        "print(\"MSE:\", mean_squared_error(y_test, y2_pred))\n",
        "print(\"R² Score:\", r2_score(y_test, y2_pred))"
      ],
      "metadata": {
        "colab": {
          "base_uri": "https://localhost:8080/"
        },
        "id": "X2VO4d9ZeLJc",
        "outputId": "da90a570-bbb4-493e-cad9-f4a2fc15d6da"
      },
      "execution_count": 49,
      "outputs": [
        {
          "output_type": "stream",
          "name": "stdout",
          "text": [
            "MAE: 8991.986355199586\n",
            "MSE: 3443324330.1889095\n",
            "R² Score: 0.6754805107993367\n"
          ]
        }
      ]
    },
    {
      "cell_type": "code",
      "source": [
        "# Random Forest Model\n",
        "rf_model = RandomForestRegressor(random_state=42)\n",
        "\n",
        "param_dist = {\n",
        "    'n_estimators': randint(100, 1000),\n",
        "    'max_depth': [None, 10, 20, 30],\n",
        "    'min_samples_split': randint(2, 10),\n",
        "    'min_samples_leaf': randint(1, 4),\n",
        "    'max_features': ['auto', 'sqrt', 'log2']\n",
        "}\n",
        "\n",
        "random_search = RandomizedSearchCV(rf_model, param_distributions=param_dist, n_iter=10, cv=5, n_jobs=-1, random_state=42)\n",
        "random_search.fit(X_train_encoded, y_train)\n",
        "\n",
        "print(\"Best parameters found: \", random_search.best_params_)"
      ],
      "metadata": {
        "colab": {
          "base_uri": "https://localhost:8080/"
        },
        "id": "q-s0kOaUTGr_",
        "outputId": "b31c5141-9d9c-4c2f-82f0-3f3157db476a"
      },
      "execution_count": 47,
      "outputs": [
        {
          "output_type": "stream",
          "name": "stderr",
          "text": [
            "/usr/local/lib/python3.10/dist-packages/sklearn/model_selection/_validation.py:540: FitFailedWarning: \n",
            "20 fits failed out of a total of 50.\n",
            "The score on these train-test partitions for these parameters will be set to nan.\n",
            "If these failures are not expected, you can try to debug them by setting error_score='raise'.\n",
            "\n",
            "Below are more details about the failures:\n",
            "--------------------------------------------------------------------------------\n",
            "6 fits failed with the following error:\n",
            "Traceback (most recent call last):\n",
            "  File \"/usr/local/lib/python3.10/dist-packages/sklearn/model_selection/_validation.py\", line 888, in _fit_and_score\n",
            "    estimator.fit(X_train, y_train, **fit_params)\n",
            "  File \"/usr/local/lib/python3.10/dist-packages/sklearn/base.py\", line 1466, in wrapper\n",
            "    estimator._validate_params()\n",
            "  File \"/usr/local/lib/python3.10/dist-packages/sklearn/base.py\", line 666, in _validate_params\n",
            "    validate_parameter_constraints(\n",
            "  File \"/usr/local/lib/python3.10/dist-packages/sklearn/utils/_param_validation.py\", line 95, in validate_parameter_constraints\n",
            "    raise InvalidParameterError(\n",
            "sklearn.utils._param_validation.InvalidParameterError: The 'max_features' parameter of RandomForestRegressor must be an int in the range [1, inf), a float in the range (0.0, 1.0], a str among {'log2', 'sqrt'} or None. Got 'auto' instead.\n",
            "\n",
            "--------------------------------------------------------------------------------\n",
            "14 fits failed with the following error:\n",
            "Traceback (most recent call last):\n",
            "  File \"/usr/local/lib/python3.10/dist-packages/sklearn/model_selection/_validation.py\", line 888, in _fit_and_score\n",
            "    estimator.fit(X_train, y_train, **fit_params)\n",
            "  File \"/usr/local/lib/python3.10/dist-packages/sklearn/base.py\", line 1466, in wrapper\n",
            "    estimator._validate_params()\n",
            "  File \"/usr/local/lib/python3.10/dist-packages/sklearn/base.py\", line 666, in _validate_params\n",
            "    validate_parameter_constraints(\n",
            "  File \"/usr/local/lib/python3.10/dist-packages/sklearn/utils/_param_validation.py\", line 95, in validate_parameter_constraints\n",
            "    raise InvalidParameterError(\n",
            "sklearn.utils._param_validation.InvalidParameterError: The 'max_features' parameter of RandomForestRegressor must be an int in the range [1, inf), a float in the range (0.0, 1.0], a str among {'sqrt', 'log2'} or None. Got 'auto' instead.\n",
            "\n",
            "  warnings.warn(some_fits_failed_message, FitFailedWarning)\n",
            "/usr/local/lib/python3.10/dist-packages/numpy/ma/core.py:2820: RuntimeWarning: invalid value encountered in cast\n",
            "  _data = np.array(data, dtype=dtype, copy=copy,\n",
            "/usr/local/lib/python3.10/dist-packages/sklearn/model_selection/_search.py:1103: UserWarning: One or more of the test scores are non-finite: [       nan        nan 0.38870886 0.59361164 0.71139072        nan\n",
            "        nan 0.5408344  0.58731425 0.29399394]\n",
            "  warnings.warn(\n"
          ]
        },
        {
          "output_type": "stream",
          "name": "stdout",
          "text": [
            "Best parameters found:  {'max_depth': 30, 'max_features': 'sqrt', 'min_samples_leaf': 2, 'min_samples_split': 3, 'n_estimators': 291}\n"
          ]
        }
      ]
    },
    {
      "cell_type": "code",
      "source": [
        "best_rf_model = random_search.best_estimator_\n",
        "best_rf_model.fit(X_train_encoded, y_train)\n",
        "\n",
        "y2_pred = best_rf_model.predict(X_test_encoded)\n",
        "\n",
        "print(\"MAE:\", mean_absolute_error(y_test, y2_pred))\n",
        "print(\"MSE:\", mean_squared_error(y_test, y2_pred))\n",
        "print(\"R² Score:\", r2_score(y_test, y2_pred))"
      ],
      "metadata": {
        "colab": {
          "base_uri": "https://localhost:8080/"
        },
        "id": "SjSwwi_casM4",
        "outputId": "b4e43476-99e3-4e11-ee4a-447dd4594c81"
      },
      "execution_count": 48,
      "outputs": [
        {
          "output_type": "stream",
          "name": "stdout",
          "text": [
            "MAE: 15455.700646520694\n",
            "MSE: 5754049572.721938\n",
            "R² Score: 0.45770393691825895\n"
          ]
        }
      ]
    },
    {
      "cell_type": "code",
      "source": [
        "# XGBoost\n",
        "# handle categorical variables\n",
        "categorical_columns = ['Model', 'Brand', 'Transmission']\n",
        "\n",
        "for col in categorical_columns:\n",
        "    X_train[col] = X_train[col].astype('category')\n",
        "    X_test[col] = X_test[col].astype('category')\n",
        "\n",
        "xg_model = XGBRegressor(random_state=42, enable_categorical=True)\n",
        "xg_model.fit(X_train, y_train)\n",
        "\n",
        "y3_pred = xg_model.predict(X_test)\n",
        "\n",
        "print(\"MAE:\", mean_absolute_error(y_test, y3_pred))\n",
        "print(\"MSE:\", mean_squared_error(y_test, y3_pred))\n",
        "print(\"R² Score:\", r2_score(y_test, y3_pred))"
      ],
      "metadata": {
        "colab": {
          "base_uri": "https://localhost:8080/"
        },
        "id": "6Iq83FLkTTH2",
        "outputId": "38e39d2b-ecdb-4ef7-efa8-935bc013617b"
      },
      "execution_count": 18,
      "outputs": [
        {
          "output_type": "stream",
          "name": "stdout",
          "text": [
            "MAE: 79284.34681146461\n",
            "MSE: 22191567506.963882\n",
            "R² Score: -1.0914661884307861\n"
          ]
        }
      ]
    },
    {
      "cell_type": "code",
      "source": [
        "# finding best alpha score\n",
        "# Ridge\n",
        "ridge = Ridge()\n",
        "param_grid = {'alpha': [0.01, 0.1, 1, 10, 100]}  # Range of alpha values to test\n",
        "grid_search = GridSearchCV(ridge, param_grid, cv=5)\n",
        "grid_search.fit(X_train_encoded, y_train)\n",
        "\n",
        "# Get the best parameter and score\n",
        "print(\"Best alpha for Ridge:\", grid_search.best_params_)\n",
        "print(\"Best cross-validation score:\", grid_search.best_score_)"
      ],
      "metadata": {
        "colab": {
          "base_uri": "https://localhost:8080/"
        },
        "id": "Po_UQLXDYsSw",
        "outputId": "090eae07-60c6-476a-f720-9fcbd911b0c1"
      },
      "execution_count": 38,
      "outputs": [
        {
          "output_type": "stream",
          "name": "stdout",
          "text": [
            "Best alpha for Ridge: {'alpha': 1}\n",
            "Best cross-validation score: 0.8242080707258813\n"
          ]
        }
      ]
    },
    {
      "cell_type": "code",
      "source": [
        "# finding best alpha score\n",
        "# Lasso\n",
        "lasso = Lasso()\n",
        "param_grid = {'alpha': [0.01, 0.1, 1, 10, 100]}  # Range of alpha values to test\n",
        "grid_search = GridSearchCV(lasso, param_grid, cv=5)\n",
        "grid_search.fit(X_train_encoded, y_train)\n",
        "\n",
        "# Get the best parameter and score\n",
        "print(\"Best alpha for Lasso:\", grid_search.best_params_)\n",
        "print(\"Best cross-validation score:\", grid_search.best_score_)"
      ],
      "metadata": {
        "colab": {
          "base_uri": "https://localhost:8080/"
        },
        "id": "YKYPoXV5Zh0u",
        "outputId": "07fe5eca-cb7a-4cea-b353-9d9588225874"
      },
      "execution_count": 42,
      "outputs": [
        {
          "output_type": "stream",
          "name": "stderr",
          "text": [
            "/usr/local/lib/python3.10/dist-packages/sklearn/linear_model/_coordinate_descent.py:658: ConvergenceWarning: Objective did not converge. You might want to increase the number of iterations. Duality gap: 242604276012.4101, tolerance: 1257036534.6318822\n",
            "  model = cd_fast.sparse_enet_coordinate_descent(\n",
            "/usr/local/lib/python3.10/dist-packages/sklearn/linear_model/_coordinate_descent.py:658: ConvergenceWarning: Objective did not converge. You might want to increase the number of iterations. Duality gap: 411030943499.4887, tolerance: 1713171695.1171193\n",
            "  model = cd_fast.sparse_enet_coordinate_descent(\n",
            "/usr/local/lib/python3.10/dist-packages/sklearn/linear_model/_coordinate_descent.py:658: ConvergenceWarning: Objective did not converge. You might want to increase the number of iterations. Duality gap: 378202241209.9529, tolerance: 1467168156.32072\n",
            "  model = cd_fast.sparse_enet_coordinate_descent(\n",
            "/usr/local/lib/python3.10/dist-packages/sklearn/linear_model/_coordinate_descent.py:658: ConvergenceWarning: Objective did not converge. You might want to increase the number of iterations. Duality gap: 368714278578.69336, tolerance: 1667158862.8684452\n",
            "  model = cd_fast.sparse_enet_coordinate_descent(\n",
            "/usr/local/lib/python3.10/dist-packages/sklearn/linear_model/_coordinate_descent.py:658: ConvergenceWarning: Objective did not converge. You might want to increase the number of iterations. Duality gap: 335933451352.79004, tolerance: 1590676006.0222328\n",
            "  model = cd_fast.sparse_enet_coordinate_descent(\n",
            "/usr/local/lib/python3.10/dist-packages/sklearn/linear_model/_coordinate_descent.py:658: ConvergenceWarning: Objective did not converge. You might want to increase the number of iterations. Duality gap: 129000834351.74084, tolerance: 1257036534.6318822\n",
            "  model = cd_fast.sparse_enet_coordinate_descent(\n",
            "/usr/local/lib/python3.10/dist-packages/sklearn/linear_model/_coordinate_descent.py:658: ConvergenceWarning: Objective did not converge. You might want to increase the number of iterations. Duality gap: 181321707601.8285, tolerance: 1713171695.1171193\n",
            "  model = cd_fast.sparse_enet_coordinate_descent(\n",
            "/usr/local/lib/python3.10/dist-packages/sklearn/linear_model/_coordinate_descent.py:658: ConvergenceWarning: Objective did not converge. You might want to increase the number of iterations. Duality gap: 165889845632.14343, tolerance: 1467168156.32072\n",
            "  model = cd_fast.sparse_enet_coordinate_descent(\n",
            "/usr/local/lib/python3.10/dist-packages/sklearn/linear_model/_coordinate_descent.py:658: ConvergenceWarning: Objective did not converge. You might want to increase the number of iterations. Duality gap: 164669881424.88354, tolerance: 1667158862.8684452\n",
            "  model = cd_fast.sparse_enet_coordinate_descent(\n",
            "/usr/local/lib/python3.10/dist-packages/sklearn/linear_model/_coordinate_descent.py:658: ConvergenceWarning: Objective did not converge. You might want to increase the number of iterations. Duality gap: 162625590468.15625, tolerance: 1590676006.0222328\n",
            "  model = cd_fast.sparse_enet_coordinate_descent(\n",
            "/usr/local/lib/python3.10/dist-packages/sklearn/linear_model/_coordinate_descent.py:658: ConvergenceWarning: Objective did not converge. You might want to increase the number of iterations. Duality gap: 30608365191.15503, tolerance: 1257036534.6318822\n",
            "  model = cd_fast.sparse_enet_coordinate_descent(\n",
            "/usr/local/lib/python3.10/dist-packages/sklearn/linear_model/_coordinate_descent.py:658: ConvergenceWarning: Objective did not converge. You might want to increase the number of iterations. Duality gap: 95615398799.31812, tolerance: 1713171695.1171193\n",
            "  model = cd_fast.sparse_enet_coordinate_descent(\n",
            "/usr/local/lib/python3.10/dist-packages/sklearn/linear_model/_coordinate_descent.py:658: ConvergenceWarning: Objective did not converge. You might want to increase the number of iterations. Duality gap: 31335799151.874023, tolerance: 1467168156.32072\n",
            "  model = cd_fast.sparse_enet_coordinate_descent(\n",
            "/usr/local/lib/python3.10/dist-packages/sklearn/linear_model/_coordinate_descent.py:658: ConvergenceWarning: Objective did not converge. You might want to increase the number of iterations. Duality gap: 46534088679.37793, tolerance: 1667158862.8684452\n",
            "  model = cd_fast.sparse_enet_coordinate_descent(\n",
            "/usr/local/lib/python3.10/dist-packages/sklearn/linear_model/_coordinate_descent.py:658: ConvergenceWarning: Objective did not converge. You might want to increase the number of iterations. Duality gap: 44631730961.56714, tolerance: 1590676006.0222328\n",
            "  model = cd_fast.sparse_enet_coordinate_descent(\n"
          ]
        },
        {
          "output_type": "stream",
          "name": "stdout",
          "text": [
            "Best alpha for Lasso: {'alpha': 10}\n",
            "Best cross-validation score: 0.7811740985704863\n"
          ]
        }
      ]
    },
    {
      "cell_type": "code",
      "source": [
        "# Resolve overfitting through regularisation\n",
        "# Lasso (L1 regularization)\n",
        "lasso_model = Lasso(alpha=10)\n",
        "lasso_model.fit(X_train_encoded, y_train)\n",
        "y_pred_lasso = lasso_model.predict(X_test_encoded)\n",
        "\n",
        "# Ridge (L2 regularization)\n",
        "ridge_model = Ridge(alpha=1)\n",
        "ridge_model.fit(X_train_encoded, y_train)\n",
        "y_pred_ridge = ridge_model.predict(X_test_encoded)\n",
        "\n",
        "# Evaluate models\n",
        "print(\"Lasso Model RMSE:\", mean_absolute_error(y_test, y_pred_lasso))\n",
        "print(\"Lasso Model MSE:\", mean_squared_error(y_test, y_pred_lasso))\n",
        "print(\"Lasso Model R² Score:\", r2_score(y_test, y_pred_lasso))\n",
        "\n",
        "print(\"Ridge Model RMSE:\", mean_absolute_error(y_test, y_pred_ridge))\n",
        "print(\"Ridge Model MSE:\", mean_squared_error(y_test, y_pred_ridge))\n",
        "print(\"Ridge Model R² Score:\", r2_score(y_test, y_pred_ridge))"
      ],
      "metadata": {
        "colab": {
          "base_uri": "https://localhost:8080/"
        },
        "id": "7w_bTzL5UGD_",
        "outputId": "cb1ae443-37b1-486d-efc2-0f8c1e070679"
      },
      "execution_count": 40,
      "outputs": [
        {
          "output_type": "stream",
          "name": "stdout",
          "text": [
            "Lasso Model RMSE: 13795.460529932627\n",
            "Lasso Model MSE: 3157237183.824644\n",
            "Lasso Model R² Score: 0.7024430753742262\n",
            "Ridge Model RMSE: 14605.380539404277\n",
            "Ridge Model MSE: 3991734200.872499\n",
            "Ridge Model R² Score: 0.6237950829857224\n"
          ]
        },
        {
          "output_type": "stream",
          "name": "stderr",
          "text": [
            "/usr/local/lib/python3.10/dist-packages/sklearn/linear_model/_coordinate_descent.py:658: ConvergenceWarning: Objective did not converge. You might want to increase the number of iterations. Duality gap: 32737164364.497314, tolerance: 1923840442.9539526\n",
            "  model = cd_fast.sparse_enet_coordinate_descent(\n"
          ]
        }
      ]
    },
    {
      "cell_type": "markdown",
      "source": [
        "The logistic regression model will be choosen due to its highest R2 score."
      ],
      "metadata": {
        "id": "DKSUf2vKe_9G"
      }
    },
    {
      "cell_type": "code",
      "source": [
        "# export chosen model\n",
        "joblib.dump(linear_model_log, 'model.pkl')"
      ],
      "metadata": {
        "colab": {
          "base_uri": "https://localhost:8080/"
        },
        "id": "J1cZVGj8fgTL",
        "outputId": "f7e38adf-33b3-48cf-80cc-e34da7bd60ab"
      },
      "execution_count": 51,
      "outputs": [
        {
          "output_type": "execute_result",
          "data": {
            "text/plain": [
              "['model.pkl']"
            ]
          },
          "metadata": {},
          "execution_count": 51
        }
      ]
    }
  ]
}